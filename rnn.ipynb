{
  "nbformat": 4,
  "nbformat_minor": 0,
  "metadata": {
    "colab": {
      "name": "rnn.ipynb",
      "provenance": [],
      "authorship_tag": "ABX9TyMWLANgLr6p6p3jitNmCblL",
      "include_colab_link": true
    },
    "kernelspec": {
      "name": "python3",
      "display_name": "Python 3"
    }
  },
  "cells": [
    {
      "cell_type": "markdown",
      "metadata": {
        "id": "view-in-github",
        "colab_type": "text"
      },
      "source": [
        "<a href=\"https://colab.research.google.com/github/BlueBlazin/nlp_from_ground_up/blob/master/rnn.ipynb\" target=\"_parent\"><img src=\"https://colab.research.google.com/assets/colab-badge.svg\" alt=\"Open In Colab\"/></a>"
      ]
    },
    {
      "cell_type": "code",
      "metadata": {
        "id": "8vdiZakHxhPk"
      },
      "source": [
        "import numpy as np"
      ],
      "execution_count": null,
      "outputs": []
    },
    {
      "cell_type": "code",
      "metadata": {
        "id": "cKLj3Y6kZ09y"
      },
      "source": [
        "def softmax(x):\n",
        "    x -= np.max(x)\n",
        "    x = np.exp(x)\n",
        "    return x / np.sum(x)"
      ],
      "execution_count": null,
      "outputs": []
    },
    {
      "cell_type": "code",
      "metadata": {
        "id": "sHfdu_nKaAj9"
      },
      "source": [
        "def cross_entropy(target, pred):\n",
        "    return -np.sum(target * np.log(pred))"
      ],
      "execution_count": null,
      "outputs": []
    },
    {
      "cell_type": "code",
      "metadata": {
        "id": "yJjcG2uYbaKo"
      },
      "source": [
        "def rnn_cell(x, hprev, Wx, Wh):\n",
        "    return np.tanh(Wx @ x + Wh @ hprev)"
      ],
      "execution_count": null,
      "outputs": []
    },
    {
      "cell_type": "code",
      "metadata": {
        "id": "Bol_QcESa19Y"
      },
      "source": [
        "def forward_pass(xs, h, Wx, Wh, Wy):\n",
        "    hs = []\n",
        "    ys = []\n",
        "\n",
        "    for x in xs:\n",
        "        h = rnn_cell(x, h, Wx, Wh)\n",
        "        hs.append(h)\n",
        "\n",
        "        y = softmax(Wy @ h)\n",
        "        ys.append(y)\n",
        "\n",
        "    return ys, hs"
      ],
      "execution_count": null,
      "outputs": []
    },
    {
      "cell_type": "code",
      "metadata": {
        "id": "qwxLtd0ncE3d"
      },
      "source": [
        "def backward_pass(ys, hs):\n",
        "    pass"
      ],
      "execution_count": null,
      "outputs": []
    }
  ]
}